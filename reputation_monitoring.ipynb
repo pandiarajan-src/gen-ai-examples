{
 "cells": [
  {
   "cell_type": "markdown",
   "metadata": {},
   "source": [
    "##  Reputation monitoring system"
   ]
  },
  {
   "cell_type": "markdown",
   "metadata": {},
   "source": [
    "Instructions:\n",
    "1. For each of the four code cells below, click on the cell then hit Shift+Enter on your keyboard to run the code (or if on a mobile device, press 'play' button).\n",
    "2. Optionally edit the reviews in Code cell 2, and try again (rerun the 2nd, 3rd and 4th code cells)!"
   ]
  },
  {
   "cell_type": "markdown",
   "metadata": {},
   "source": [
    "**Code cell 1:** Set up programming environment to use code to send prompts to OpenAI's cloud-hosted service. "
   ]
  },
  {
   "cell_type": "code",
   "execution_count": 1,
   "metadata": {},
   "outputs": [],
   "source": [
    "from openai import OpenAI\n",
    "import os\n",
    "\n",
    "def reputation_monitoring(prompt):\n",
    "  client = OpenAI(\n",
    "    api_key=os.environ.get(\"OPENAI_API_KEY\")\n",
    "  )\n",
    "\n",
    "  completion = client.chat.completions.create(\n",
    "    model=\"gpt-3.5-turbo\",\n",
    "    messages=[{\"role\": \"user\", \"content\": prompt}\n",
    "    ],\n",
    "    temperature=0\n",
    "  )\n",
    "  return completion.choices[0].message.content"
   ]
  },
  {
   "cell_type": "markdown",
   "metadata": {},
   "source": [
    "**Code cell 2:** Create a list of reviews. "
   ]
  },
  {
   "cell_type": "code",
   "execution_count": 2,
   "metadata": {},
   "outputs": [
    {
     "data": {
      "text/plain": [
       "['The mochi is excellent!',\n",
       " 'Best soup dumplings I have ever eaten.',\n",
       " 'Not worth the 3 month wait for a reservation.',\n",
       " 'The colorful tablecloths made me smile!',\n",
       " 'The pasta was cold.']"
      ]
     },
     "execution_count": 2,
     "metadata": {},
     "output_type": "execute_result"
    }
   ],
   "source": [
    "all_reviews = [\n",
    "    'The mochi is excellent!',\n",
    "    'Best soup dumplings I have ever eaten.',\n",
    "    'Not worth the 3 month wait for a reservation.',\n",
    "    'The colorful tablecloths made me smile!',\n",
    "    'The pasta was cold.'\n",
    "]\n",
    "\n",
    "all_reviews"
   ]
  },
  {
   "cell_type": "markdown",
   "metadata": {},
   "source": [
    "**Code cell 3:** Classify the reviews as positive or negative. "
   ]
  },
  {
   "cell_type": "code",
   "execution_count": 3,
   "metadata": {},
   "outputs": [
    {
     "data": {
      "text/plain": [
       "['positive', 'positive', 'negative', 'positive', 'negative']"
      ]
     },
     "execution_count": 3,
     "metadata": {},
     "output_type": "execute_result"
    }
   ],
   "source": [
    "all_sentiments = []\n",
    "for review in all_reviews:\n",
    "    prompt = f'''\n",
    "        Classify the following review \n",
    "        as having either a positive or\n",
    "        negative sentiment. State your answer\n",
    "        as a single word, either \"positive\" or\n",
    "        \"negative\":\n",
    "\n",
    "        {review}\n",
    "        '''\n",
    "    response = reputation_monitoring(prompt)\n",
    "    all_sentiments.append(response)\n",
    "\n",
    "all_sentiments"
   ]
  },
  {
   "cell_type": "markdown",
   "metadata": {},
   "source": [
    "**Code cell 4**: Count the number of positive and negative reviews "
   ]
  },
  {
   "cell_type": "code",
   "execution_count": 4,
   "metadata": {},
   "outputs": [
    {
     "name": "stdout",
     "output_type": "stream",
     "text": [
      "There are 3 positive and 2 negative reviews.\n"
     ]
    }
   ],
   "source": [
    "num_positive = 0\n",
    "num_negative = 0\n",
    "for sentiment in all_sentiments:\n",
    "    if sentiment == 'positive':\n",
    "        num_positive += 1\n",
    "    elif sentiment == 'negative':\n",
    "        num_negative += 1\n",
    "print(f\"There are {num_positive} positive and {num_negative} negative reviews.\")"
   ]
  }
 ],
 "metadata": {
  "kernelspec": {
   "display_name": "Python 3",
   "language": "python",
   "name": "python3"
  },
  "language_info": {
   "codemirror_mode": {
    "name": "ipython",
    "version": 3
   },
   "file_extension": ".py",
   "mimetype": "text/x-python",
   "name": "python",
   "nbconvert_exporter": "python",
   "pygments_lexer": "ipython3",
   "version": "3.12.3"
  }
 },
 "nbformat": 4,
 "nbformat_minor": 2
}
